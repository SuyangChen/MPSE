{
 "cells": [
  {
   "cell_type": "markdown",
   "metadata": {},
   "source": [
    "# Basic use of the mview module"
   ]
  },
  {
   "cell_type": "code",
   "execution_count": 1,
   "metadata": {},
   "outputs": [],
   "source": [
    "import sys; sys.path.insert(0,\"../\")\n",
    "import numpy as np\n",
    "\n",
    "import mview"
   ]
  },
  {
   "cell_type": "markdown",
   "metadata": {},
   "source": [
    "The mview module contains many ways to set up and solve MPSE problems. Here, we discuss the simplest way to use the module to set up and solve the most basic MPSE problem.\n",
    "\n",
    "In this notebook, we will just consider the following set of dissimilarities: 32 nodes are assigned 3D coordinates, 3 distance matrices are computed, each by computing the distances between the nodes after being projected into 2D images by one of the standard orthogonal projections."
   ]
  },
  {
   "cell_type": "code",
   "execution_count": 2,
   "metadata": {},
   "outputs": [],
   "source": [
    "N = 32 #number of points\n",
    "X = np.random.randn(N,3) #positions in 3D\n",
    "\n",
    "Y1 = X[:,[1,2]] #projection of data into 2D, viewed from x-direction\n",
    "Y2 = X[:,[2,0]]\n",
    "Y3 = X[:,[0,1]]\n",
    "\n",
    "from scipy.spatial import distance_matrix\n",
    "D1 = distance_matrix(Y1,Y1) #pairwise distance matrix of Y1\n",
    "D2 = distance_matrix(Y2,Y2)\n",
    "D3 = distance_matrix(Y3,Y3)"
   ]
  },
  {
   "cell_type": "markdown",
   "metadata": {},
   "source": [
    "## Using mview.basic()"
   ]
  },
  {
   "cell_type": "markdown",
   "metadata": {},
   "source": [
    "The simplest way to use the mview module is via the function mview.basic. \n",
    "\n",
    "In its most basic form, this function does the following:\n",
    "\n",
    "1) takes as input a list of distance/dissimilarity matrices $D=[D_1,D_2,\\dots,D_K]$.\n",
    "\n",
    "2) computes a random initial embedding and a random initial projection matrix for each dissimilarity matrix.\n",
    "\n",
    "3) runs (an adaptive scheme of) gradient descent to find an embedding $X$ and projection parameters $Q = [Q_1,Q_2,\\dots,Q_K]$ that minimize the MPSE stress function.\n",
    "\n",
    "4) returns an instance of the MPSE class, which contains results, along with methods for plotting (or continuing computations).\n",
    "\n",
    "The list of defaults is very large, so I'll cover them more optional parameters are introduced. But for now it is enough to know that by default mview.basic tries to find a 3D embedding by supposing that the given dissimilarity matrices correspond to distances from 2D images, each obtained from orthogonal projections from 3D to 2D."
   ]
  },
  {
   "cell_type": "code",
   "execution_count": 3,
   "metadata": {},
   "outputs": [],
   "source": [
    "mv = mview.basic([D1,D2,D3]) #most basic run of mview.basic"
   ]
  },
  {
   "cell_type": "markdown",
   "metadata": {},
   "source": [
    "Here, the output mv is an object in the MPSE, containing all the results of the experiment. A list of the attributes is shown below (only some are relevant for the purposes of this introduction). \n",
    "\n",
    "The most relevant of these are the final embedding 'X', the final projection parameters 'Q', the final cost 'cost', the total time 'time', and the computation dictionary 'H', containing the cost history 'H[\"costs\"]'."
   ]
  },
  {
   "cell_type": "code",
   "execution_count": 4,
   "metadata": {},
   "outputs": [
    {
     "name": "stdout",
     "output_type": "stream",
     "text": [
      "dict_keys(['verbose', 'title', 'level', 'DD', 'D', 'K', 'N', 'd1', 'd2', 'family', 'constraint', 'proj', 'X', 'X_is_fixed', 'Q', 'Q_is_fixed', 'visualization_method', 'visualization', 'cost_function', 'cost_function_k', 'cost_function_all', 'F', 'FX', 'FQ', 'time', 'X0', 'Q0', 'Y', 'cost', 'individual_cost', 'H'])\n"
     ]
    }
   ],
   "source": [
    "print(mv.__dict__.keys())"
   ]
  },
  {
   "cell_type": "markdown",
   "metadata": {},
   "source": [
    "The final embedding (after running the gradient descent scheme) is given by attribute 'X', as shown here:"
   ]
  },
  {
   "cell_type": "code",
   "execution_count": 5,
   "metadata": {},
   "outputs": [
    {
     "name": "stdout",
     "output_type": "stream",
     "text": [
      "[[-4.56195028e-01  1.49886466e+00 -1.44492383e+00]\n",
      " [-8.34591398e-01 -8.34603762e-01  4.62630927e-01]\n",
      " [-9.73090634e-01 -7.89511898e-01 -4.19387753e-01]\n",
      " [ 6.79426230e-01  9.03730440e-02  1.23169729e-01]\n",
      " [-4.29318450e-01  4.24762087e-01  3.42040533e-01]\n",
      " [ 1.05195542e+00 -3.98392146e-01 -5.07359161e-01]\n",
      " [ 1.02546463e+00  2.46556774e+00 -1.17872275e+00]\n",
      " [-9.68275213e-01 -1.07091683e+00 -2.68622036e-01]\n",
      " [ 6.93151306e-01  5.01482301e-01  1.92883531e+00]\n",
      " [ 2.08485571e-02  1.56107678e-03  6.78342562e-01]\n",
      " [ 8.38142627e-01  1.94045246e+00  6.44318691e-01]\n",
      " [-1.82346638e+00  2.97249431e-01  3.07255110e-01]\n",
      " [ 6.91669633e-01 -1.80906668e+00 -6.32064136e-01]\n",
      " [ 1.01187455e-01 -3.35146997e-02 -3.11748146e-01]\n",
      " [-3.81533011e-01  4.98136825e-01 -7.30912077e-01]\n",
      " [ 2.05985370e-01 -5.67241537e-01 -6.62906721e-01]\n",
      " [-1.93971080e-01 -2.60648830e-01  5.19009233e-02]\n",
      " [-8.01919711e-01 -5.73127611e-01  8.76780235e-01]\n",
      " [-1.53453037e-01 -5.80986103e-01 -1.84484849e+00]\n",
      " [ 4.79428630e-01  1.57765477e-02  9.54056711e-01]\n",
      " [ 1.06333942e+00  7.65079688e-02  6.02043665e-01]\n",
      " [-2.13646709e-01  8.50196223e-01 -8.85859417e-01]\n",
      " [-3.05412239e-01 -3.18081498e-01 -3.86008073e-01]\n",
      " [-6.63228542e-01 -7.60895645e-01 -5.27581513e-02]\n",
      " [-1.01131682e+00 -2.30503565e-02 -7.97648664e-01]\n",
      " [ 1.09181416e+00 -1.40059622e+00  5.90383204e-01]\n",
      " [ 9.63215011e-01 -6.21219297e-01  1.03673872e-01]\n",
      " [ 4.88674515e-01  3.05172785e-01  5.59646608e-02]\n",
      " [-3.12884627e-01  1.43085576e-02  7.97294654e-02]\n",
      " [-3.11959955e-01 -1.27692335e-01  5.65880746e-01]\n",
      " [-8.75857616e-01 -4.41934441e-01  1.13445441e+00]\n",
      " [-2.19361169e+00 -2.81877287e-01 -1.92084027e+00]]\n"
     ]
    }
   ],
   "source": [
    "print(mv.X)"
   ]
  },
  {
   "cell_type": "markdown",
   "metadata": {},
   "source": [
    "The final orthogonal matrices are given by the attribute 'Q'. Note that in this setup, these will be 2x3 matrices (since these are projections from 3D to 2D)"
   ]
  },
  {
   "cell_type": "code",
   "execution_count": 6,
   "metadata": {},
   "outputs": [
    {
     "name": "stdout",
     "output_type": "stream",
     "text": [
      "[[[-0.58971458 -0.48128302  0.64853941]\n",
      "  [ 0.22421708 -0.86903257 -0.44103185]]\n",
      "\n",
      " [[-0.40808584 -0.88147146  0.23764262]\n",
      "  [ 0.74980978 -0.17511222  0.63806034]]\n",
      "\n",
      " [[-0.28679907 -0.18149437 -0.94064132]\n",
      "  [ 0.88935984 -0.41539461 -0.19101414]]]\n"
     ]
    }
   ],
   "source": [
    "print(mv.Q)"
   ]
  },
  {
   "cell_type": "markdown",
   "metadata": {},
   "source": [
    "Even if the global minimum of the MPSE stress function was found, these projection matrices will not be the same as the standard projections matrices (what we used to produce the original dissimilarities), since the MPSE stress function is invariant under 'rotations' of the embedding and projections.\n",
    "\n",
    "We can still check that these are orthogonal matrices and check whether these are orthogonal to each other (which may not be the case if the global minima was not found)."
   ]
  },
  {
   "cell_type": "code",
   "execution_count": 7,
   "metadata": {},
   "outputs": [
    {
     "name": "stdout",
     "output_type": "stream",
     "text": [
      "[[ 1. -0.]\n",
      " [-0.  1.]]\n",
      "[[ 1. -0.]\n",
      " [-0.  1.]]\n",
      "[[1. 0.]\n",
      " [0. 1.]]\n"
     ]
    }
   ],
   "source": [
    "#These should be the identity matrix if the computed projection matrices is \n",
    "#orthogonal:\n",
    "with np.printoptions(precision=3, suppress=True):\n",
    "    for k in range(3):\n",
    "        print(mv.Q[k] @ mv.Q[k].T)"
   ]
  },
  {
   "cell_type": "code",
   "execution_count": 8,
   "metadata": {},
   "outputs": [
    {
     "name": "stdout",
     "output_type": "stream",
     "text": [
      "1.1572901331691199e-08\n",
      "-1.0667874486558482e-08\n",
      "6.967423793469152e-08\n"
     ]
    }
   ],
   "source": [
    "#These should be 0 if the normal to the projections are orthogonal to the others:\n",
    "print(np.dot(np.cross(mv.Q[0][0],mv.Q[0][1]),\n",
    "             np.cross(mv.Q[1][0],mv.Q[1][1])))\n",
    "print(np.dot(np.cross(mv.Q[0][0],mv.Q[0][1]),\n",
    "             np.cross(mv.Q[2][0],mv.Q[2][1])))\n",
    "print(np.dot(np.cross(mv.Q[1][0],mv.Q[1][1]),\n",
    "             np.cross(mv.Q[2][0],mv.Q[2][1])))"
   ]
  },
  {
   "cell_type": "markdown",
   "metadata": {},
   "source": [
    "The final normalized MPSE (MDS) cost is given by the attribute 'cost'."
   ]
  },
  {
   "cell_type": "code",
   "execution_count": 9,
   "metadata": {},
   "outputs": [
    {
     "name": "stdout",
     "output_type": "stream",
     "text": [
      "1.288223683154033e-09\n"
     ]
    }
   ],
   "source": [
    "print(mv.cost)"
   ]
  },
  {
   "cell_type": "markdown",
   "metadata": {},
   "source": [
    "The total computation time (in seconds) is given by attribute 'time'."
   ]
  },
  {
   "cell_type": "code",
   "execution_count": 10,
   "metadata": {},
   "outputs": [
    {
     "name": "stdout",
     "output_type": "stream",
     "text": [
      "4.166418552398682\n"
     ]
    }
   ],
   "source": [
    "print(mv.time)"
   ]
  },
  {
   "cell_type": "markdown",
   "metadata": {},
   "source": [
    "The computation history is given by attribute 'H'. This is a dictionary containing different specs in the computation, as shown below."
   ]
  },
  {
   "cell_type": "code",
   "execution_count": 11,
   "metadata": {},
   "outputs": [
    {
     "name": "stdout",
     "output_type": "stream",
     "text": [
      "dict_keys(['iterations', 'markers', 'costs', 'X_iters', 'X_steps', 'X_grads', 'X_lrs', 'Q_iters', 'Q_steps', 'Q_grads', 'Q_lrs'])\n"
     ]
    }
   ],
   "source": [
    "print(mv.H.keys())"
   ]
  },
  {
   "cell_type": "markdown",
   "metadata": {},
   "source": [
    "For example, the computed/estimated costs at each iteration are given by key 'costs' in this dictionary."
   ]
  },
  {
   "cell_type": "code",
   "execution_count": 12,
   "metadata": {},
   "outputs": [
    {
     "name": "stdout",
     "output_type": "stream",
     "text": [
      "[2.16266705e-02 2.09644659e-02 1.72296681e-02 1.49353487e-02\n",
      " 1.27171670e-02 1.18147480e-02 1.10450479e-02 1.04944153e-02\n",
      " 9.99781364e-03 9.44933076e-03 9.05080457e-03 8.85247676e-03\n",
      " 8.72307923e-03 8.60259841e-03 8.43942157e-03 8.12172756e-03\n",
      " 7.86543627e-03 7.75282014e-03 7.59523904e-03 7.48020672e-03\n",
      " 7.28047741e-03 6.89050916e-03 6.33223091e-03 5.27101284e-03\n",
      " 5.00246510e-03 4.50236034e-03 4.29775303e-03 4.15226887e-03\n",
      " 3.78758922e-03 2.83808635e-03 1.08630101e-03 1.21468437e-03\n",
      " 3.44538971e-04 2.84978875e-04 2.69320266e-04 2.51521517e-04\n",
      " 2.27820323e-04 1.95539335e-04 1.53224533e-04 1.24162365e-04\n",
      " 9.57639421e-05 8.53823326e-05 7.32526403e-05 5.74203360e-05\n",
      " 4.08323113e-05 3.16417892e-05 2.46489395e-05 2.07963581e-05\n",
      " 1.86435353e-05 1.59767746e-05 1.24398124e-05 8.91115384e-06\n",
      " 6.90379916e-06 5.47596581e-06 4.62759596e-06 4.04146608e-06\n",
      " 3.34973780e-06 2.59388964e-06 1.90104085e-06 1.58628655e-06\n",
      " 1.31250852e-06 9.87804009e-07 8.87618454e-07 7.59207381e-07\n",
      " 5.88213031e-07 4.18944577e-07 3.19946335e-07 2.52461887e-07\n",
      " 2.07707994e-07 1.79758126e-07 1.52957548e-07 1.24357036e-07\n",
      " 9.66940377e-08 8.01859369e-08 6.53499345e-08 5.52326683e-08\n",
      " 4.78761220e-08 3.88760741e-08 2.93180068e-08 2.20879089e-08\n",
      " 2.03285365e-08 1.47750972e-08 1.30627671e-08 1.12675984e-08\n",
      " 8.89457801e-09 6.54360620e-09 5.22290357e-09 4.23833912e-09\n",
      " 3.50469149e-09 3.07303723e-09 2.61907021e-09 2.11133991e-09\n",
      " 1.61015098e-09 1.34214583e-09 1.13113234e-09 8.86518068e-10\n",
      " 7.91436342e-10 6.74814058e-10 5.26343389e-10]\n"
     ]
    }
   ],
   "source": [
    "print(mv.H['costs'])"
   ]
  },
  {
   "cell_type": "markdown",
   "metadata": {},
   "source": [
    "## Quick plots"
   ]
  },
  {
   "cell_type": "markdown",
   "metadata": {},
   "source": [
    "To plot the final embedding, we can use the MPSE method below.\n",
    "\n",
    "Note: The 'axes' are the normal components to the computed projections (so in this case should be orthogonal to each other)."
   ]
  },
  {
   "cell_type": "code",
   "execution_count": 13,
   "metadata": {
    "scrolled": true
   },
   "outputs": [
    {
     "data": {
      "image/png": "[encoded data removed]",
      "text/plain": [
       "<Figure size 432x288 with 1 Axes>"
      ]
     },
     "metadata": {
      "needs_background": "light"
     },
     "output_type": "display_data"
    }
   ],
   "source": [
    "mv.figureX()"
   ]
  },
  {
   "cell_type": "markdown",
   "metadata": {},
   "source": [
    "To plot the final projected images, use the MPSE method below.\n",
    "\n",
    "Note: the colors are added automatically; the more gradual the change in the colors, the better the embedding (at least in this default setting)."
   ]
  },
  {
   "cell_type": "code",
   "execution_count": 14,
   "metadata": {},
   "outputs": [
    {
     "data": {
      "image/png": "[encoded data removed]",
      "text/plain": [
       "<Figure size 432x288 with 3 Axes>"
      ]
     },
     "metadata": {
      "needs_background": "light"
     },
     "output_type": "display_data"
    }
   ],
   "source": [
    "mv.figureY()"
   ]
  },
  {
   "cell_type": "markdown",
   "metadata": {},
   "source": [
    "To plot the computation history, use the MPSE method below. The following quantities are plotted:\n",
    "\n",
    "1) cost : stress (computed or estimated at each iteration)\n",
    "\n",
    "2) gradient size : size of the gradient (root-mean-square of entries by default)\n",
    "\n",
    "3) learning rate : learning rate used at each iteration (varies if using an adaptive scheme)\n",
    "\n",
    "4) step size : the size of the step jump between iterations (root-mean-square of entires by default)\n",
    "\n",
    "The last 3 quantities are given separately for the embedding $X$ and the projection parameters $Q$ (which we think as a $Kx2x3$ array containing all of the projection matrices).\n"
   ]
  },
  {
   "cell_type": "code",
   "execution_count": 15,
   "metadata": {},
   "outputs": [
    {
     "data": {
      "image/png": "[encoded data removed]",
      "text/plain": [
       "<Figure size 648x216 with 3 Axes>"
      ]
     },
     "metadata": {
      "needs_background": "light"
     },
     "output_type": "display_data"
    }
   ],
   "source": [
    "mv.figureH()"
   ]
  },
  {
   "cell_type": "markdown",
   "metadata": {},
   "source": [
    "If this run of mview.basic didn't result in the global minima, make sure to run the whole notebook again!"
   ]
  },
  {
   "cell_type": "markdown",
   "metadata": {},
   "source": [
    "## Other attributes of interest"
   ]
  },
  {
   "cell_type": "markdown",
   "metadata": {},
   "source": [
    "The other attributes in the resulting MPSE object are not immediately of use to us, but I'll describe as the need arises. Other methods can be used on the MPSE object too (such as running a different GD scheme where we left off), and I'll describe those elsewhere."
   ]
  },
  {
   "cell_type": "code",
   "execution_count": null,
   "metadata": {},
   "outputs": [],
   "source": []
  }
 ],
 "metadata": {
  "kernelspec": {
   "display_name": "Python 3",
   "language": "python",
   "name": "python3"
  },
  "language_info": {
   "codemirror_mode": {
    "name": "ipython",
    "version": 3
   },
   "file_extension": ".py",
   "mimetype": "text/x-python",
   "name": "python",
   "nbconvert_exporter": "python",
   "pygments_lexer": "ipython3",
   "version": "3.7.6"
  }
 },
 "nbformat": 4,
 "nbformat_minor": 4
}
